{
 "cells": [
  {
   "cell_type": "markdown",
   "metadata": {},
   "source": [
    "# Movies Tonight Part 2: SQL DDL"
   ]
  },
  {
   "cell_type": "code",
   "execution_count": 3,
   "metadata": {},
   "outputs": [],
   "source": [
    "%load_ext sql"
   ]
  },
  {
   "cell_type": "markdown",
   "metadata": {},
   "source": [
    "1. **Create / Reset a SQLite database.** \n",
    "    - Name the database `Movies.db`.\n",
    "    - Add `DROP TABLE IF EXISTS` queries make sure you have a blank database. \n",
    "    - Use SQL comments to ay what each line does"
   ]
  },
  {
   "cell_type": "code",
   "execution_count": 8,
   "metadata": {},
   "outputs": [
    {
     "data": {
      "text/plain": [
       "'Connected: @Movies.db'"
      ]
     },
     "execution_count": 8,
     "metadata": {},
     "output_type": "execute_result"
    }
   ],
   "source": [
    "%sql sqlite:///Movies.db"
   ]
  },
  {
   "cell_type": "markdown",
   "metadata": {},
   "source": [
    "2. **Use SQL Create Table commands to implement the table designs you created in Part 1.** \n",
    "    - Take care with your data types! (You do not need to populate them yet. That’s Part 3.) \n",
    "    - Use a surrogate key for the primary key of each table. The data type descriptor is `INTEGER PRIMARY KEY`.\n",
    "    - If you make a mistake, recreate the database from scratch using your code from step 1 above. "
   ]
  },
  {
   "cell_type": "code",
   "execution_count": 19,
   "metadata": {},
   "outputs": [
    {
     "name": "stdout",
     "output_type": "stream",
     "text": [
      " * sqlite:///Movies.db\n",
      "   sqlite:///database\n",
      "(sqlite3.OperationalError) table THEATRE already exists\n",
      "[SQL: /* Creating a table name Theatre */\n",
      "CREATE TABLE THEATRE(TID, NAME, LOCATION,  PHONE INT, PRIMARY KEY (TID));]\n",
      "(Background on this error at: http://sqlalche.me/e/e3q8)\n"
     ]
    }
   ],
   "source": [
    "%%sql\n",
    "/* Creating a table name Theatre */\n",
    "CREATE TABLE THEATRE(\n",
    "    TID, \n",
    "    Name, \n",
    "    Location,  \n",
    "    Phone, \n",
    "    PRIMARY KEY (TID)\n",
    ");\n"
   ]
  },
  {
   "cell_type": "code",
   "execution_count": 20,
   "metadata": {},
   "outputs": [
    {
     "name": "stdout",
     "output_type": "stream",
     "text": [
      " * sqlite:///Movies.db\n",
      "   sqlite:///database\n",
      "(sqlite3.OperationalError) near \"(\": syntax error\n",
      "[SQL: /* Creating a table name Show */\n",
      "CREATE TABLE SHOW(\n",
      "   TID   \n",
      "   SID   \n",
      "   MID   \n",
      "   PHONE \n",
      "   PRIMARY KEY (SID)\n",
      ");]\n",
      "(Background on this error at: http://sqlalche.me/e/e3q8)\n"
     ]
    }
   ],
   "source": [
    "%%sql\n",
    "/* Creating a table name Show */\n",
    "CREATE TABLE SHOW(\n",
    "   TID   \n",
    "   SID   \n",
    "   MID   \n",
    "   Phone\n",
    "   PRIMARY KEY (SID)\n",
    ");"
   ]
  },
  {
   "cell_type": "code",
   "execution_count": 21,
   "metadata": {},
   "outputs": [
    {
     "name": "stdout",
     "output_type": "stream",
     "text": [
      " * sqlite:///Movies.db\n",
      "   sqlite:///database\n",
      "(sqlite3.OperationalError) near \"(\": syntax error\n",
      "[SQL: /* Creating a table name Artist */\n",
      "CREATE TABLE ARTIST(\n",
      "   AID   \n",
      "   Name   \n",
      "   Bio   \n",
      "   PRIMARY KEY (AID)\n",
      ");]\n",
      "(Background on this error at: http://sqlalche.me/e/e3q8)\n"
     ]
    }
   ],
   "source": [
    "%%sql\n",
    "/* Creating a table name Artist */\n",
    "CREATE TABLE ARTIST(\n",
    "   AID   \n",
    "   Name   \n",
    "   Bio   \n",
    "   PRIMARY KEY (AID)\n",
    ");"
   ]
  },
  {
   "cell_type": "code",
   "execution_count": 22,
   "metadata": {},
   "outputs": [
    {
     "name": "stdout",
     "output_type": "stream",
     "text": [
      " * sqlite:///Movies.db\n",
      "   sqlite:///database\n",
      "(sqlite3.OperationalError) near \"(\": syntax error\n",
      "[SQL: /* Creating a table name Credit */\n",
      "CREATE TABLE CREDIT(\n",
      "   AID   \n",
      "   CID   \n",
      "   CCode   \n",
      "   PRIMARY KEY (CID)\n",
      ");]\n",
      "(Background on this error at: http://sqlalche.me/e/e3q8)\n"
     ]
    }
   ],
   "source": [
    "%%sql\n",
    "/* Creating a table name Credit */\n",
    "CREATE TABLE CREDIT(\n",
    "   AID   \n",
    "   CID   \n",
    "   CCode   \n",
    "   PRIMARY KEY (CID)\n",
    ");"
   ]
  },
  {
   "cell_type": "code",
   "execution_count": 23,
   "metadata": {},
   "outputs": [
    {
     "name": "stdout",
     "output_type": "stream",
     "text": [
      " * sqlite:///Movies.db\n",
      "   sqlite:///database\n",
      "(sqlite3.OperationalError) near \"(\": syntax error\n",
      "[SQL: /* Creating a table name Movie */\n",
      "CREATE TABLE MOVIE(\n",
      "   MID   \n",
      "   Title   \n",
      "   Rating   \n",
      "   PRIMARY KEY (MID)\n",
      ");]\n",
      "(Background on this error at: http://sqlalche.me/e/e3q8)\n"
     ]
    }
   ],
   "source": [
    "%%sql\n",
    "/* Creating a table name Movie */\n",
    "CREATE TABLE MOVIE(\n",
    "   MID   \n",
    "   Title   \n",
    "   Rating   \n",
    "   PRIMARY KEY (MID)\n",
    ");"
   ]
  },
  {
   "cell_type": "markdown",
   "metadata": {},
   "source": [
    "3. **Use SQL ALTER TABLE statements to add the foreign key constraints from your ERD.**  \n",
    "Take care that each constraint has to have a unique name."
   ]
  },
  {
   "cell_type": "code",
   "execution_count": null,
   "metadata": {},
   "outputs": [],
   "source": [
    "%%sql\n",
    "/* Creating a foreign key in the table SHOW */\n",
    "ALTER TABLE SHOW\n",
    "ADD FOREIGN KEY (TID) REFERENCES **(TID);"
   ]
  },
  {
   "cell_type": "code",
   "execution_count": null,
   "metadata": {},
   "outputs": [],
   "source": [
    "%%sql\n",
    "/* Creating a foreign key in the table CREDIT */\n",
    "ALTER TABLE CREDIT\n",
    "ADD FOREIGN KEY (AID) REFERENCES **(AID);"
   ]
  },
  {
   "cell_type": "code",
   "execution_count": null,
   "metadata": {},
   "outputs": [],
   "source": [
    "%%sql\n",
    "/* Creating a foreign key in the table MOVIE */\n",
    "ALTER TABLE MOVIE\n",
    "ADD FOREIGN KEY (AID) REFERENCES **(AID);"
   ]
  },
  {
   "cell_type": "markdown",
   "metadata": {},
   "source": [
    "4. **Save, add, commit, and push your work to GitHub.**  \n",
    "Use the commit summary comment \"Completed Part 2\"."
   ]
  },
  {
   "cell_type": "code",
   "execution_count": null,
   "metadata": {},
   "outputs": [],
   "source": []
  }
 ],
 "metadata": {
  "kernelspec": {
   "display_name": "Python 3",
   "language": "python",
   "name": "python3"
  },
  "language_info": {
   "codemirror_mode": {
    "name": "ipython",
    "version": 3
   },
   "file_extension": ".py",
   "mimetype": "text/x-python",
   "name": "python",
   "nbconvert_exporter": "python",
   "pygments_lexer": "ipython3",
   "version": "3.6.7"
  }
 },
 "nbformat": 4,
 "nbformat_minor": 2
}
